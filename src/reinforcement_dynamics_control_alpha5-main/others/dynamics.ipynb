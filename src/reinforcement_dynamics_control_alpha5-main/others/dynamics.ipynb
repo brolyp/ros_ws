{
 "cells": [
  {
   "cell_type": "code",
   "execution_count": 8,
   "id": "9f2d1194",
   "metadata": {},
   "outputs": [],
   "source": [
    "import casadi as cs\n",
    "from urdf2casadi import urdfparser as u2c\n",
    "import numpy as np\n",
    "import array  as arr"
   ]
  },
  {
   "cell_type": "code",
   "execution_count": 9,
   "id": "c7a01eb8",
   "metadata": {},
   "outputs": [
    {
     "name": "stdout",
     "output_type": "stream",
     "text": [
      "[0.019246665760874748, 1.452919602394104, 0.004350273869931698, 5.734236240386963]\n"
     ]
    }
   ],
   "source": [
    "urdf_path = \"reach_alpha_arm.urdf\"\n",
    "root_link = \"base_link\"\n",
    "tip = \"alpha_standard_jaws_base_link\"\n",
    "thetaOffset = [5.734236240386963, 0.004350273869931698, 1.452919602394104, 0.019246665760874748]\n",
    "thetaOffset.reverse()\n",
    "print(thetaOffset)"
   ]
  },
  {
   "cell_type": "code",
   "execution_count": 10,
   "id": "fc9093f3",
   "metadata": {},
   "outputs": [],
   "source": [
    "robot_parser = u2c.URDFparser()\n",
    "robot_parser.from_file(urdf_path)"
   ]
  },
  {
   "cell_type": "code",
   "execution_count": 11,
   "id": "b5738fce",
   "metadata": {},
   "outputs": [
    {
     "data": {
      "text/plain": [
       "([9.0, 9.0, 9.0, 9.0], [0.5, 0.5, 0.5, 0.5])"
      ]
     },
     "execution_count": 11,
     "metadata": {},
     "output_type": "execute_result"
    }
   ],
   "source": [
    "robot_parser.get_dynamics_limits(root_link, tip)"
   ]
  },
  {
   "cell_type": "code",
   "execution_count": 12,
   "id": "0fe91f2a",
   "metadata": {},
   "outputs": [],
   "source": [
    "jointlist, names, q_max, q_min = robot_parser.get_joint_info(root_link, tip)"
   ]
  },
  {
   "cell_type": "code",
   "execution_count": 13,
   "id": "5ec1a825",
   "metadata": {},
   "outputs": [
    {
     "data": {
      "text/plain": [
       "[0.0, 0.0, 0.0, 0.0]"
      ]
     },
     "execution_count": 13,
     "metadata": {},
     "output_type": "execute_result"
    }
   ],
   "source": [
    "q_min"
   ]
  },
  {
   "cell_type": "code",
   "execution_count": 6,
   "id": "fef46bcf",
   "metadata": {},
   "outputs": [
    {
     "data": {
      "text/plain": [
       "[6.3, 3.8, 3.5, 6.2]"
      ]
     },
     "execution_count": 6,
     "metadata": {},
     "output_type": "execute_result"
    }
   ],
   "source": [
    "q_max"
   ]
  },
  {
   "cell_type": "code",
   "execution_count": 7,
   "id": "25ac541e",
   "metadata": {},
   "outputs": [
    {
     "data": {
      "text/plain": [
       "[6.319246665760875, 5.252919602394104, 3.5043502738699317, 11.934236240386962]"
      ]
     },
     "execution_count": 7,
     "metadata": {},
     "output_type": "execute_result"
    }
   ],
   "source": [
    "arr.array('d', np.add(q_max, thetaOffset)).tolist() # qmax"
   ]
  },
  {
   "cell_type": "code",
   "execution_count": 5,
   "id": "c60f34f5",
   "metadata": {},
   "outputs": [],
   "source": [
    "#gravity = [0, 0, -9.81]\n",
    "#M_sym = robot_parser.get_inertia_matrix_crba(root_link, tip) #M_num = M_sym(q)\n",
    "#C_sym = robot_parser.get_coriolis_rnea(root_link, tip) #C_num = C_sym(q, q_dot)\n",
    "#G_sym = robot_parser.get_gravity_rnea(root_link, tip, gravity) #G_num = G_sym(q)\n",
    "#tau_sym = robot_parser.get_inverse_dynamics_rnea(root_link, tip) #tau_sym(q, q_dot, q_ddot)\n",
    "#tau_g_sym = robot_parser.get_inverse_dynamics_rnea(root_link, tip, gravity = gravity) #tau_g_sym(q, q_dot, q_ddot)\n",
    "qddot_sym = robot_parser.get_forward_dynamics_crba(root_link, tip) # qddot_sym(q, q_dot, tau)\n",
    "#qddot_g_sym = robot_parser.get_forward_dynamics_aba(root_link, tip, gravity = gravity)  #qddot_g_sym(q, q_dot, tau)"
   ]
  },
  {
   "cell_type": "code",
   "execution_count": 6,
   "id": "4ee1cb37",
   "metadata": {},
   "outputs": [],
   "source": [
    "qddot_sym.save(\"qddot.casadi\")"
   ]
  },
  {
   "cell_type": "code",
   "execution_count": 16,
   "id": "40453d6c",
   "metadata": {},
   "outputs": [],
   "source": [
    "forward_dynamics = cs.Function.load(\"qddot.casadi\")"
   ]
  },
  {
   "cell_type": "code",
   "execution_count": 18,
   "id": "fa82354e",
   "metadata": {},
   "outputs": [
    {
     "data": {
      "text/plain": [
       "DM([145.73, 143.321, 426.405, 25.5264])"
      ]
     },
     "execution_count": 18,
     "metadata": {},
     "output_type": "execute_result"
    }
   ],
   "source": [
    "forward_dynamics([0,0,0,0],[0,0,0,0],[1,0,1,0])"
   ]
  },
  {
   "cell_type": "code",
   "execution_count": 11,
   "id": "a95c7692",
   "metadata": {},
   "outputs": [],
   "source": [
    "fk_dict = robot_parser.get_forward_kinematics(root_link, tip)"
   ]
  },
  {
   "cell_type": "code",
   "execution_count": 12,
   "id": "2d0b6f5a",
   "metadata": {},
   "outputs": [],
   "source": [
    "forward_kinematics = fk_dict[\"T_fk\"]"
   ]
  },
  {
   "cell_type": "code",
   "execution_count": 13,
   "id": "089297fb",
   "metadata": {},
   "outputs": [],
   "source": [
    "forward_kinematics.save(\"forward_kinematics.casadi\")"
   ]
  },
  {
   "cell_type": "code",
   "execution_count": 14,
   "id": "1309803f",
   "metadata": {},
   "outputs": [],
   "source": [
    "forward_kinematics = cs.Function.load(\"forward_kinematics.casadi\")"
   ]
  },
  {
   "cell_type": "code",
   "execution_count": 15,
   "id": "38c13e65",
   "metadata": {},
   "outputs": [
    {
     "data": {
      "text/plain": [
       "DM(\n",
       "[[0.499993, 0.866029, 0, -0.08], \n",
       " [-0.866029, 0.499993, 0, 5.30718e-08], \n",
       " [0, -0, 1, 0.03445], \n",
       " [0, 0, 0, 1]])"
      ]
     },
     "execution_count": 15,
     "metadata": {},
     "output_type": "execute_result"
    }
   ],
   "source": [
    "forward_kinematics([0,0,0,0])"
   ]
  }
 ],
 "metadata": {
  "kernelspec": {
   "display_name": "Python 3 (ipykernel)",
   "language": "python",
   "name": "python3"
  },
  "language_info": {
   "codemirror_mode": {
    "name": "ipython",
    "version": 3
   },
   "file_extension": ".py",
   "mimetype": "text/x-python",
   "name": "python",
   "nbconvert_exporter": "python",
   "pygments_lexer": "ipython3",
   "version": "3.10.6"
  }
 },
 "nbformat": 4,
 "nbformat_minor": 5
}
